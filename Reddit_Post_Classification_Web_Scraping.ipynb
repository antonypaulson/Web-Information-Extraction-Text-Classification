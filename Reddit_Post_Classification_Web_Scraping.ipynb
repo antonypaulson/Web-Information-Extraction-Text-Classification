{
  "nbformat": 4,
  "nbformat_minor": 0,
  "metadata": {
    "colab": {
      "name": "Reddit Post Classification_Web_Scraping",
      "version": "0.3.2",
      "provenance": [],
      "toc_visible": true
    },
    "kernelspec": {
      "name": "python3",
      "display_name": "Python 3"
    }
  },
  "cells": [
    {
      "cell_type": "code",
      "metadata": {
        "id": "L_w9aKy9LUxz",
        "colab_type": "code",
        "colab": {}
      },
      "source": [
        "#Importing libraries\n",
        "import requests\n",
        "import time\n",
        "import pandas as pd\n",
        "import numpy as np\n",
        "import nltk\n",
        "from nltk.corpus import stopwords"
      ],
      "execution_count": 0,
      "outputs": []
    },
    {
      "cell_type": "markdown",
      "metadata": {
        "id": "7OF6rCVpLzlu",
        "colab_type": "text"
      },
      "source": [
        "### Sub-reddits to scrape (Loans & Credit Cards)\n"
      ]
    },
    {
      "cell_type": "code",
      "metadata": {
        "id": "9m77entbLvCf",
        "colab_type": "code",
        "colab": {}
      },
      "source": [
        "#Link to api for \"Loan\" related posts\n",
        "url_ln = 'https://www.reddit.com/r/Loans/.json'\n",
        "#Link to api for \"Credit Card\" related posts\n",
        "url_cc = 'https://www.reddit.com/r/CreditCards/.json'"
      ],
      "execution_count": 0,
      "outputs": []
    },
    {
      "cell_type": "markdown",
      "metadata": {
        "id": "A_71S1h1M3Oy",
        "colab_type": "text"
      },
      "source": [
        "###Basic methodology used to webscrape reddit"
      ]
    },
    {
      "cell_type": "code",
      "metadata": {
        "id": "DLKLbjoTMDJn",
        "colab_type": "code",
        "colab": {}
      },
      "source": [
        "#Creating a user agent\n",
        "header_ua = {'User-agent': 'reddit-reader-bot-0.2'}\n",
        "#Using requests to get respones from the websites\n",
        "res_ln = requests.get(url_ln, headers = header_ua)\n",
        "res_cc = requests.get(url_cc, headers = header_ua)"
      ],
      "execution_count": 0,
      "outputs": []
    },
    {
      "cell_type": "code",
      "metadata": {
        "id": "U0RN-M6NMLSZ",
        "colab_type": "code",
        "outputId": "1e87a110-7a96-4235-9143-dd5859b7416f",
        "colab": {
          "base_uri": "https://localhost:8080/",
          "height": 51
        }
      },
      "source": [
        "#Checking status for posts reponses, 200 indicates everything is wel\n",
        "print(res_ln.status_code)\n",
        "print(res_cc.status_code)"
      ],
      "execution_count": 0,
      "outputs": [
        {
          "output_type": "stream",
          "text": [
            "200\n",
            "200\n"
          ],
          "name": "stdout"
        }
      ]
    },
    {
      "cell_type": "code",
      "metadata": {
        "id": "BK1JHjL1MZPP",
        "colab_type": "code",
        "colab": {}
      },
      "source": [
        "#Loan Posts Data\n",
        "ln_data = res_ln.json()\n",
        "#Credit card Data\n",
        "cc_data = res_cc.json()"
      ],
      "execution_count": 0,
      "outputs": []
    },
    {
      "cell_type": "markdown",
      "metadata": {
        "id": "KgUOGrvRM-72",
        "colab_type": "text"
      },
      "source": [
        "###Limitations of this method:\n",
        "\n",
        "*   The scraping only returns 25 reddit posts in one run\n",
        "*   More posts are necesscary for building an effective machine learning classification model\n",
        "\n",
        "###Overcoming these Limitations:\n",
        "\n",
        "*   Understand the structure of reddits web-page\n",
        "*   Each page of the sub-reddit generally has 25 reddit posts\n",
        "*   So to achieve around 1000 posts 40 pages have to be scraped\n",
        "*   Identify where posts reside within the .json structure\n"
      ]
    },
    {
      "cell_type": "code",
      "metadata": {
        "id": "e1KxO7mhMlsn",
        "colab_type": "code",
        "outputId": "7f56bb3c-732b-4277-817a-155eb6c63492",
        "colab": {
          "base_uri": "https://localhost:8080/",
          "height": 187
        }
      },
      "source": [
        "#Collecting posts for Loans\n",
        "\n",
        "#Empty list which will contain posts\n",
        "posts_ln = []\n",
        "\n",
        "#After helps us read-in posts sequentially(learned from the post structure)\n",
        "after = None\n",
        "\n",
        "#Staring a loop to try and scrape through 50 pages \n",
        "for i in range(50):\n",
        "    if i % 5 == 0:\n",
        "        print(i, 'pages scraped')\n",
        "    if after == None:\n",
        "        params = {}\n",
        "    else:\n",
        "        params = {'after' : after}\n",
        "    url_ln = 'https://www.reddit.com/r/Loans/.json'\n",
        "    \n",
        "    res_ln = requests.get(url_ln, headers = header_ua, params = params)\n",
        "    \n",
        "    #Populating posts\n",
        "    if res_ln.status_code == 200:\n",
        "        ln_data = res_ln.json()\n",
        "        posts_ln.extend(ln_data['data']['children'])\n",
        "        after = ln_data['data']['after']\n",
        "    else:\n",
        "        print(res_ln.status_code)\n",
        "    time.sleep(1)"
      ],
      "execution_count": 0,
      "outputs": [
        {
          "output_type": "stream",
          "text": [
            "0 pages scraped\n",
            "5 pages scraped\n",
            "10 pages scraped\n",
            "15 pages scraped\n",
            "20 pages scraped\n",
            "25 pages scraped\n",
            "30 pages scraped\n",
            "35 pages scraped\n",
            "40 pages scraped\n",
            "45 pages scraped\n"
          ],
          "name": "stdout"
        }
      ]
    },
    {
      "cell_type": "code",
      "metadata": {
        "id": "TBtSqy9jP8uw",
        "colab_type": "code",
        "outputId": "71df1ff5-a389-482d-a59a-69f771d07c24",
        "colab": {
          "base_uri": "https://localhost:8080/",
          "height": 187
        }
      },
      "source": [
        "#Similar Methodology followed for Credit card posts\n",
        "\n",
        "#Empty list which will contain posts\n",
        "posts_cc = []\n",
        "\n",
        "#After helps us read-in posts sequentially(learned from the post structure)\n",
        "after = None\n",
        "\n",
        "#Staring a loop to try and scrape through 50 pages \n",
        "for i in range(50):\n",
        "    if i % 5 == 0:\n",
        "        print(i, 'pages scraped')\n",
        "    if after == None:\n",
        "        params = {}\n",
        "    else:\n",
        "        params = {'after' : after}\n",
        "    url_cc = 'https://www.reddit.com/r/CreditCards/.json'\n",
        "    \n",
        "    res_cc = requests.get(url_cc, headers = header_ua, params = params)\n",
        "    \n",
        "    #Populating posts\n",
        "    if res_cc.status_code == 200:\n",
        "        cc_data = res_cc.json()\n",
        "        posts_cc.extend(ln_data['data']['children'])\n",
        "        after = cc_data['data']['after']\n",
        "    else:\n",
        "        print(res_cc.status_code)\n",
        "    time.sleep(1)"
      ],
      "execution_count": 0,
      "outputs": [
        {
          "output_type": "stream",
          "text": [
            "0 pages scraped\n",
            "5 pages scraped\n",
            "10 pages scraped\n",
            "15 pages scraped\n",
            "20 pages scraped\n",
            "25 pages scraped\n",
            "30 pages scraped\n",
            "35 pages scraped\n",
            "40 pages scraped\n",
            "45 pages scraped\n"
          ],
          "name": "stdout"
        }
      ]
    },
    {
      "cell_type": "code",
      "metadata": {
        "id": "9mi5Dg_1XqJo",
        "colab_type": "code",
        "outputId": "bd2319c6-4d0b-4795-fe1e-cdc4e07dde81",
        "colab": {
          "base_uri": "https://localhost:8080/",
          "height": 51
        }
      },
      "source": [
        "#Summary of our data collection\n",
        "print(f'The number of Loan posts acquired are {len(posts_ln)}')\n",
        "print(f'The number of Credit Card posts acquired are {len(posts_cc)}')"
      ],
      "execution_count": 0,
      "outputs": [
        {
          "output_type": "stream",
          "text": [
            "The number of Loan posts acquired are 1243\n",
            "The number of Credit Card posts acquired are 1250\n"
          ],
          "name": "stdout"
        }
      ]
    },
    {
      "cell_type": "code",
      "metadata": {
        "id": "Ej3UJMAPYZTI",
        "colab_type": "code",
        "outputId": "9581c67e-06f2-4f1e-a4f3-5fb339a2bcfe",
        "colab": {
          "base_uri": "https://localhost:8080/",
          "height": 204
        }
      },
      "source": [
        "#Making a dataframe of Credit Card posts\n",
        "posts_frame_cc = []\n",
        "for post in posts_cc:\n",
        "    dict_cc = {}\n",
        "    if (post['data']['title'] != '') and (post['data']['selftext'] != ''):\n",
        "        dict_cc['title'] = post['data']['title']\n",
        "        dict_cc['text'] = post['data']['selftext']\n",
        "        dict_cc['class'] = 'cc'\n",
        "        posts_frame_cc.append(dict_cc)\n",
        "    else:\n",
        "        pass\n",
        "\n",
        "cc_frame = pd.DataFrame(posts_frame_cc, columns = ['title', 'text', 'class'])\n",
        "cc_frame.head()"
      ],
      "execution_count": 0,
      "outputs": [
        {
          "output_type": "execute_result",
          "data": {
            "text/html": [
              "<div>\n",
              "<style scoped>\n",
              "    .dataframe tbody tr th:only-of-type {\n",
              "        vertical-align: middle;\n",
              "    }\n",
              "\n",
              "    .dataframe tbody tr th {\n",
              "        vertical-align: top;\n",
              "    }\n",
              "\n",
              "    .dataframe thead th {\n",
              "        text-align: right;\n",
              "    }\n",
              "</style>\n",
              "<table border=\"1\" class=\"dataframe\">\n",
              "  <thead>\n",
              "    <tr style=\"text-align: right;\">\n",
              "      <th></th>\n",
              "      <th>title</th>\n",
              "      <th>text</th>\n",
              "      <th>class</th>\n",
              "    </tr>\n",
              "  </thead>\n",
              "  <tbody>\n",
              "    <tr>\n",
              "      <th>0</th>\n",
              "      <td>[REQ] $300 Loan until Oct 15 - will repay $330</td>\n",
              "      <td>I was doored by a taxi and was severely injure...</td>\n",
              "      <td>cc</td>\n",
              "    </tr>\n",
              "    <tr>\n",
              "      <th>1</th>\n",
              "      <td>[PAID] triniwarrior - $100 + interest</td>\n",
              "      <td>Great transaction, no reminder needed!\\n\\nhttp...</td>\n",
              "      <td>cc</td>\n",
              "    </tr>\n",
              "    <tr>\n",
              "      <th>2</th>\n",
              "      <td>[PAID] BestDLine - $50 + interest</td>\n",
              "      <td>Great transaction as always, no reminder neede...</td>\n",
              "      <td>cc</td>\n",
              "    </tr>\n",
              "    <tr>\n",
              "      <th>3</th>\n",
              "      <td>[PAID] bdubble $25 + Interest</td>\n",
              "      <td>http://www.reddit.com/r/Loans/comments/2fd6gg/...</td>\n",
              "      <td>cc</td>\n",
              "    </tr>\n",
              "    <tr>\n",
              "      <th>4</th>\n",
              "      <td>[REQ] I need £0.15/$0.26!</td>\n",
              "      <td>So recently I purchased something on eBay that...</td>\n",
              "      <td>cc</td>\n",
              "    </tr>\n",
              "  </tbody>\n",
              "</table>\n",
              "</div>"
            ],
            "text/plain": [
              "                                            title  ... class\n",
              "0  [REQ] $300 Loan until Oct 15 - will repay $330  ...    cc\n",
              "1           [PAID] triniwarrior - $100 + interest  ...    cc\n",
              "2               [PAID] BestDLine - $50 + interest  ...    cc\n",
              "3                   [PAID] bdubble $25 + Interest  ...    cc\n",
              "4                       [REQ] I need £0.15/$0.26!  ...    cc\n",
              "\n",
              "[5 rows x 3 columns]"
            ]
          },
          "metadata": {
            "tags": []
          },
          "execution_count": 21
        }
      ]
    },
    {
      "cell_type": "code",
      "metadata": {
        "id": "jJYr_1UMY3ND",
        "colab_type": "code",
        "outputId": "6b4326d2-25a2-498a-bb67-b356e9c11f5b",
        "colab": {
          "base_uri": "https://localhost:8080/",
          "height": 204
        }
      },
      "source": [
        "#Making a dataframe of Loan posts\n",
        "posts_frame_ln = []\n",
        "for post in posts_ln:\n",
        "    dict_ln = {}\n",
        "    if (post['data']['title'] != '') and (post['data']['selftext'] != ''):\n",
        "        dict_ln['title'] = post['data']['title']\n",
        "        dict_ln['text'] = post['data']['selftext']\n",
        "        dict_ln['class'] = 'ln'\n",
        "        posts_frame_ln.append(dict_ln)\n",
        "    else:\n",
        "        pass\n",
        "\n",
        "ln_frame = pd.DataFrame(posts_frame_ln, columns = ['title', 'text', 'class'])\n",
        "ln_frame.head()"
      ],
      "execution_count": 0,
      "outputs": [
        {
          "output_type": "execute_result",
          "data": {
            "text/html": [
              "<div>\n",
              "<style scoped>\n",
              "    .dataframe tbody tr th:only-of-type {\n",
              "        vertical-align: middle;\n",
              "    }\n",
              "\n",
              "    .dataframe tbody tr th {\n",
              "        vertical-align: top;\n",
              "    }\n",
              "\n",
              "    .dataframe thead th {\n",
              "        text-align: right;\n",
              "    }\n",
              "</style>\n",
              "<table border=\"1\" class=\"dataframe\">\n",
              "  <thead>\n",
              "    <tr style=\"text-align: right;\">\n",
              "      <th></th>\n",
              "      <th>title</th>\n",
              "      <th>text</th>\n",
              "      <th>class</th>\n",
              "    </tr>\n",
              "  </thead>\n",
              "  <tbody>\n",
              "    <tr>\n",
              "      <th>0</th>\n",
              "      <td>[META] Kiva Microloan</td>\n",
              "      <td>Hello redditors, \\n\\nMy name is Wally and I la...</td>\n",
              "      <td>ln</td>\n",
              "    </tr>\n",
              "    <tr>\n",
              "      <th>1</th>\n",
              "      <td>[REQ] small loan</td>\n",
              "      <td>I know I've never posted here before.  I have ...</td>\n",
              "      <td>ln</td>\n",
              "    </tr>\n",
              "    <tr>\n",
              "      <th>2</th>\n",
              "      <td>[REQ] First timer, would appreciate a loan of ...</td>\n",
              "      <td>Just moved, had a minor problem with the serpe...</td>\n",
              "      <td>ln</td>\n",
              "    </tr>\n",
              "    <tr>\n",
              "      <th>3</th>\n",
              "      <td>[Paid] /u/penguin_dust payment</td>\n",
              "      <td>Updating the record here.</td>\n",
              "      <td>ln</td>\n",
              "    </tr>\n",
              "    <tr>\n",
              "      <th>4</th>\n",
              "      <td>[REQ] 220 to be paid back 250 3/14</td>\n",
              "      <td>Check was short of rent this week and I just n...</td>\n",
              "      <td>ln</td>\n",
              "    </tr>\n",
              "  </tbody>\n",
              "</table>\n",
              "</div>"
            ],
            "text/plain": [
              "                                               title  ... class\n",
              "0                              [META] Kiva Microloan  ...    ln\n",
              "1                                   [REQ] small loan  ...    ln\n",
              "2  [REQ] First timer, would appreciate a loan of ...  ...    ln\n",
              "3                     [Paid] /u/penguin_dust payment  ...    ln\n",
              "4                 [REQ] 220 to be paid back 250 3/14  ...    ln\n",
              "\n",
              "[5 rows x 3 columns]"
            ]
          },
          "metadata": {
            "tags": []
          },
          "execution_count": 22
        }
      ]
    },
    {
      "cell_type": "code",
      "metadata": {
        "id": "T3F0L3SDZfza",
        "colab_type": "code",
        "colab": {}
      },
      "source": [
        "#Creating a final dataframe consisting of both frames\n",
        "final_df = pd.concat([cc_frame, ln_frame], ignore_index = True)\n",
        "#Importing the data to csv\n",
        "final_df.to_csv('reddit_post_combined.csv')\n",
        "cc_frame.to_csv('credit_card_posts.csv')\n",
        "ln_frame.to_csv('loan_posts.csv')"
      ],
      "execution_count": 0,
      "outputs": []
    }
  ]
}